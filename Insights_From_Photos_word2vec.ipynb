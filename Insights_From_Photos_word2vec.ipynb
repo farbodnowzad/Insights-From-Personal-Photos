{
 "cells": [
  {
   "cell_type": "code",
   "execution_count": 3,
   "metadata": {
    "collapsed": true
   },
   "outputs": [],
   "source": [
    "import numpy as np\n",
    "import pandas as pd       \n",
    "import json\n",
    "from os import listdir\n",
    "from os.path import isfile, join"
   ]
  },
  {
   "cell_type": "code",
   "execution_count": 4,
   "metadata": {
    "collapsed": true
   },
   "outputs": [],
   "source": [
    "def category_word_df(path, category_num):\n",
    "    files = [(path + '/' + f) for f in listdir(path) if isfile(join(path, f))]\n",
    "    \n",
    "    if path == 'sporty_tag_results':\n",
    "        files.remove(path + '/' + '.DS_Store')\n",
    "\n",
    "    all_words = []\n",
    "    for file in files:\n",
    "        data = json.load(open(file))\n",
    "        image_concepts = []\n",
    "        for concept in data:\n",
    "            image_concepts.append(concept['name'])\n",
    "        all_words.append(image_concepts)\n",
    "        \n",
    "    all_category = pd.Series(all_words).as_matrix()\n",
    "    category_tags = pd.DataFrame(all_category)\n",
    "    category_tags.columns = ['words']\n",
    "    category_tags['category'] = np.repeat([category_num], len(category_tags))\n",
    "    \n",
    "    return category_tags"
   ]
  },
  {
   "cell_type": "code",
   "execution_count": 5,
   "metadata": {
    "collapsed": true
   },
   "outputs": [],
   "source": [
    "food = category_word_df('food_tag_results', 1)"
   ]
  },
  {
   "cell_type": "code",
   "execution_count": 6,
   "metadata": {
    "collapsed": true
   },
   "outputs": [],
   "source": [
    "family = category_word_df('family_tag_results', 2)"
   ]
  },
  {
   "cell_type": "code",
   "execution_count": 7,
   "metadata": {
    "collapsed": true
   },
   "outputs": [],
   "source": [
    "sporty = category_word_df('sporty_tag_results', 3)"
   ]
  },
  {
   "cell_type": "code",
   "execution_count": 8,
   "metadata": {
    "collapsed": true
   },
   "outputs": [],
   "source": [
    "outdoorsy = category_word_df('outdoorsy_tag_results', 4)"
   ]
  },
  {
   "cell_type": "code",
   "execution_count": 9,
   "metadata": {
    "collapsed": true
   },
   "outputs": [],
   "source": [
    "train = pd.concat([food, family, sporty, outdoorsy], axis = 0)\n",
    "train = train.reset_index().drop(['index'], axis = 1)"
   ]
  },
  {
   "cell_type": "code",
   "execution_count": 10,
   "metadata": {},
   "outputs": [
    {
     "data": {
      "text/html": [
       "<div>\n",
       "<style>\n",
       "    .dataframe thead tr:only-child th {\n",
       "        text-align: right;\n",
       "    }\n",
       "\n",
       "    .dataframe thead th {\n",
       "        text-align: left;\n",
       "    }\n",
       "\n",
       "    .dataframe tbody tr th {\n",
       "        vertical-align: top;\n",
       "    }\n",
       "</style>\n",
       "<table border=\"1\" class=\"dataframe\">\n",
       "  <thead>\n",
       "    <tr style=\"text-align: right;\">\n",
       "      <th></th>\n",
       "      <th>words</th>\n",
       "      <th>category</th>\n",
       "    </tr>\n",
       "  </thead>\n",
       "  <tbody>\n",
       "    <tr>\n",
       "      <th>0</th>\n",
       "      <td>[woman, people, indoors, girl, family, shoppin...</td>\n",
       "      <td>1</td>\n",
       "    </tr>\n",
       "    <tr>\n",
       "      <th>1</th>\n",
       "      <td>[food, dinner, dish, vegetable, meal, lunch, m...</td>\n",
       "      <td>1</td>\n",
       "    </tr>\n",
       "    <tr>\n",
       "      <th>2</th>\n",
       "      <td>[food, meal, dinner, lunch, dish, vegetable, r...</td>\n",
       "      <td>1</td>\n",
       "    </tr>\n",
       "    <tr>\n",
       "      <th>3</th>\n",
       "      <td>[shop, stock, shopping, restaurant, table, ins...</td>\n",
       "      <td>1</td>\n",
       "    </tr>\n",
       "    <tr>\n",
       "      <th>4</th>\n",
       "      <td>[stock, architecture, no person, travel, shop,...</td>\n",
       "      <td>1</td>\n",
       "    </tr>\n",
       "    <tr>\n",
       "      <th>5</th>\n",
       "      <td>[meal, food, plate, dinner, restaurant, dish, ...</td>\n",
       "      <td>1</td>\n",
       "    </tr>\n",
       "    <tr>\n",
       "      <th>6</th>\n",
       "      <td>[table, furniture, dining, chair, dining room,...</td>\n",
       "      <td>1</td>\n",
       "    </tr>\n",
       "    <tr>\n",
       "      <th>7</th>\n",
       "      <td>[sandwich, food, refreshment, bread, bun, burg...</td>\n",
       "      <td>1</td>\n",
       "    </tr>\n",
       "    <tr>\n",
       "      <th>8</th>\n",
       "      <td>[table, chair, furniture, inside, seat, cafete...</td>\n",
       "      <td>1</td>\n",
       "    </tr>\n",
       "    <tr>\n",
       "      <th>9</th>\n",
       "      <td>[indoors, horizontal plane, horizontal, shop, ...</td>\n",
       "      <td>1</td>\n",
       "    </tr>\n",
       "  </tbody>\n",
       "</table>\n",
       "</div>"
      ],
      "text/plain": [
       "                                               words  category\n",
       "0  [woman, people, indoors, girl, family, shoppin...         1\n",
       "1  [food, dinner, dish, vegetable, meal, lunch, m...         1\n",
       "2  [food, meal, dinner, lunch, dish, vegetable, r...         1\n",
       "3  [shop, stock, shopping, restaurant, table, ins...         1\n",
       "4  [stock, architecture, no person, travel, shop,...         1\n",
       "5  [meal, food, plate, dinner, restaurant, dish, ...         1\n",
       "6  [table, furniture, dining, chair, dining room,...         1\n",
       "7  [sandwich, food, refreshment, bread, bun, burg...         1\n",
       "8  [table, chair, furniture, inside, seat, cafete...         1\n",
       "9  [indoors, horizontal plane, horizontal, shop, ...         1"
      ]
     },
     "execution_count": 10,
     "metadata": {},
     "output_type": "execute_result"
    }
   ],
   "source": [
    "train.head(10)"
   ]
  },
  {
   "cell_type": "code",
   "execution_count": 11,
   "metadata": {},
   "outputs": [
    {
     "name": "stdout",
     "output_type": "stream",
     "text": [
      "Training word2vec model... \n"
     ]
    }
   ],
   "source": [
    "\n",
    "keywords = train['words']\n",
    "# Set values for various parameters\n",
    "num_features = 300   # Word vector dimensionality                      \n",
    "min_word_count = 1   # ignore all words with total frequency lower than this                       \n",
    "num_workers = 4       # Number of threads to run in parallel\n",
    "context = 10          # Context window size                                                                                    \n",
    "\n",
    "\n",
    "# Initialize and train the model (this will take some time)\n",
    "from gensim.models import word2vec\n",
    "\n",
    "\n",
    "print(\"Training word2vec model... \")\n",
    "model = word2vec.Word2Vec(keywords, workers = num_workers, \\\n",
    "           size=num_features, min_count = min_word_count, \\\n",
    "            window = context)\n",
    "\n",
    "\n",
    "# save the model for later use. You can load it later using Word2Vec.load()\n",
    "model_name = \"300features_40minwords_10context\"\n",
    "model.save(model_name)"
   ]
  },
  {
   "cell_type": "code",
   "execution_count": 12,
   "metadata": {},
   "outputs": [
    {
     "name": "stdout",
     "output_type": "stream",
     "text": [
      "Vocab length: 1313\n"
     ]
    }
   ],
   "source": [
    "vocab_tmp = list(model.wv.vocab)\n",
    "print('Vocab length:',len(vocab_tmp))"
   ]
  },
  {
   "cell_type": "code",
   "execution_count": 36,
   "metadata": {},
   "outputs": [
    {
     "data": {
      "text/plain": [
       "[('freedom', 0.9975003004074097),\n",
       " ('nature', 0.9970559477806091),\n",
       " ('hike', 0.996548056602478),\n",
       " ('relaxation', 0.9958226084709167),\n",
       " ('fun', 0.9940911531448364),\n",
       " ('bikini', 0.9933178424835205),\n",
       " ('enjoyment', 0.991752564907074),\n",
       " ('sky', 0.9915896654129028),\n",
       " ('sun', 0.990017294883728),\n",
       " ('summer', 0.9886194467544556)]"
      ]
     },
     "execution_count": 36,
     "metadata": {},
     "output_type": "execute_result"
    }
   ],
   "source": [
    "from sklearn.metrics.pairwise import cosine_similarity\n",
    "\n",
    "model.most_similar('outdoors')"
   ]
  },
  {
   "cell_type": "code",
   "execution_count": 15,
   "metadata": {
    "collapsed": true
   },
   "outputs": [],
   "source": [
    "def makeFeatureVec(keywords, model):\n",
    "    # Function to average all of the word vectors in a given paragraph\n",
    "    featureVec =[]\n",
    "    \n",
    "    # Index2word is a list that contains the names of the words in \n",
    "    # the model's vocabulary. Convert it to a set, for speed \n",
    "    index2word_set = set(model.wv.index2word)\n",
    "    \n",
    "    # Loop over each word in the review and, if it is in the model's\n",
    "    # vocaublary, add its feature vector to the total\n",
    "    for n,word in enumerate(keywords):\n",
    "        if word in index2word_set: \n",
    "            featureVec.append(model[word])\n",
    "            \n",
    "    # Average the word vectors for a \n",
    "    featureVec = np.mean(featureVec,axis=0)\n",
    "    return featureVec\n",
    "\n",
    "\n",
    "def getAvgFeatureVecs(keywords, model):\n",
    "    # Given a set of reviews (each one a list of words), calculate \n",
    "    # the average feature vector for each one \n",
    "    \n",
    "    reviewFeatureVecs = []\n",
    "    # Loop through the reviews\n",
    "    for counter,keyword in enumerate(keywords):\n",
    "        \n",
    "        # Print a status message every 5000th review\n",
    "        if counter%5000. == 0.:\n",
    "            print(\"Keywords %d of %d\" % (counter, len(keywords)))\n",
    "\n",
    "        # Call the function (defined above) that makes average feature vectors\n",
    "        vector= makeFeatureVec(keyword, model)\n",
    "        reviewFeatureVecs.append(vector)\n",
    "            \n",
    "    return reviewFeatureVecs"
   ]
  },
  {
   "cell_type": "code",
   "execution_count": 71,
   "metadata": {},
   "outputs": [],
   "source": [
    "from sklearn.ensemble import RandomForestClassifier\n",
    "# # CountVectorizer can actucally handle a lot of the preprocessing for us\n",
    "from sklearn.feature_extraction.text import CountVectorizer\n",
    "from sklearn import metrics # for confusion matrix, accuracy score etc\n",
    "from sklearn.model_selection import train_test_split\n",
    "from sklearn.ensemble import RandomForestClassifier\n",
    "from sklearn.metrics import confusion_matrix\n",
    "\n",
    "\n",
    "np.random.seed(0)"
   ]
  },
  {
   "cell_type": "code",
   "execution_count": 72,
   "metadata": {},
   "outputs": [
    {
     "name": "stdout",
     "output_type": "stream",
     "text": [
      "1.Creating Feature vectors using word2vec...\n",
      "\n",
      "Keywords 0 of 1668\n",
      "\n",
      "2.Splitting dataset into train and test sets...\n",
      "\n",
      "3. Training the random forest classifier...\n",
      "\n"
     ]
    }
   ],
   "source": [
    "print(\"1.Creating Feature vectors using word2vec...\\n\")\n",
    "trainDataVecs = getAvgFeatureVecs(keywords, model)\n",
    "\n",
    "print(\"\\n2.Splitting dataset into train and test sets...\\n\")\n",
    "X_train, X_test, y_train, y_test = train_test_split(trainDataVecs, train[\"category\"], random_state=0, test_size=0.1)\n",
    "\n",
    "print(\"3. Training the random forest classifier...\\n\")\n",
    "forest = RandomForestClassifier(n_estimators = 50)\n",
    "# Fit the forest to the training set, word2vecfeatures \n",
    "    # and the sentiment labels as the target variable\n",
    "forest = forest.fit(X_train, y_train)"
   ]
  },
  {
   "cell_type": "code",
   "execution_count": 77,
   "metadata": {
    "collapsed": true
   },
   "outputs": [],
   "source": [
    "train_predictions = forest.predict(X_train)"
   ]
  },
  {
   "cell_type": "code",
   "execution_count": 78,
   "metadata": {},
   "outputs": [
    {
     "name": "stdout",
     "output_type": "stream",
     "text": [
      "1.0\n"
     ]
    }
   ],
   "source": [
    "train_acc = metrics.accuracy_score(y_train, train_predictions)\n",
    "print(train_acc)"
   ]
  },
  {
   "cell_type": "code",
   "execution_count": 79,
   "metadata": {
    "collapsed": true
   },
   "outputs": [],
   "source": [
    "def word_df(path):\n",
    "    files = [(path + '/' + f) for f in listdir(path) if isfile(join(path, f))]\n",
    "    \n",
    "    if path == 'sporty_tag_results':\n",
    "        files.remove(path + '/' + '.DS_Store')\n",
    "\n",
    "    all_words = []\n",
    "    for file in files:\n",
    "        data = json.load(open(file))\n",
    "        image_concepts = []\n",
    "        for concept in data:\n",
    "            image_concepts.append(concept['name'])\n",
    "        all_words.append(image_concepts)\n",
    "        \n",
    "    all_words = pd.Series(all_words).as_matrix()\n",
    "    words_df = pd.DataFrame(all_words)\n",
    "    words_df.columns = ['words']\n",
    "    \n",
    "    return words_df"
   ]
  },
  {
   "cell_type": "code",
   "execution_count": 80,
   "metadata": {
    "collapsed": true
   },
   "outputs": [],
   "source": [
    "def predict_pics(path, model, keywords, forest):\n",
    "    wdf = word_df(path)\n",
    "    keywords = wdf['words']\n",
    "    \n",
    "    trainDataVecs = getAvgFeatureVecs(keywords, model)\n",
    "    predictions = forest.predict(trainDataVecs)\n",
    "    return predictions"
   ]
  },
  {
   "cell_type": "code",
   "execution_count": 81,
   "metadata": {},
   "outputs": [
    {
     "data": {
      "text/html": [
       "<div>\n",
       "<style>\n",
       "    .dataframe thead tr:only-child th {\n",
       "        text-align: right;\n",
       "    }\n",
       "\n",
       "    .dataframe thead th {\n",
       "        text-align: left;\n",
       "    }\n",
       "\n",
       "    .dataframe tbody tr th {\n",
       "        vertical-align: top;\n",
       "    }\n",
       "</style>\n",
       "<table border=\"1\" class=\"dataframe\">\n",
       "  <thead>\n",
       "    <tr style=\"text-align: right;\">\n",
       "      <th></th>\n",
       "      <th>words</th>\n",
       "    </tr>\n",
       "  </thead>\n",
       "  <tbody>\n",
       "    <tr>\n",
       "      <th>0</th>\n",
       "      <td>[no person, outdoors, landscape, seashore, tra...</td>\n",
       "    </tr>\n",
       "    <tr>\n",
       "      <th>1</th>\n",
       "      <td>[people, recreation, water, one, beach, man, a...</td>\n",
       "    </tr>\n",
       "    <tr>\n",
       "      <th>2</th>\n",
       "      <td>[people, one, vehicle, adult, two, transportat...</td>\n",
       "    </tr>\n",
       "    <tr>\n",
       "      <th>3</th>\n",
       "      <td>[beach, people, monochrome, sea, one, ocean, w...</td>\n",
       "    </tr>\n",
       "    <tr>\n",
       "      <th>4</th>\n",
       "      <td>[no person, landscape, water, nature, monochro...</td>\n",
       "    </tr>\n",
       "    <tr>\n",
       "      <th>5</th>\n",
       "      <td>[surf, ocean, water, spray, wave, splash, acti...</td>\n",
       "    </tr>\n",
       "    <tr>\n",
       "      <th>6</th>\n",
       "      <td>[people, one, adult, no person, rock, outdoors...</td>\n",
       "    </tr>\n",
       "    <tr>\n",
       "      <th>7</th>\n",
       "      <td>[people, child, adult, monochrome, woman, grou...</td>\n",
       "    </tr>\n",
       "    <tr>\n",
       "      <th>8</th>\n",
       "      <td>[people, adult, group, group together, woman, ...</td>\n",
       "    </tr>\n",
       "    <tr>\n",
       "      <th>9</th>\n",
       "      <td>[people, beach, seashore, landscape, sea, ocea...</td>\n",
       "    </tr>\n",
       "    <tr>\n",
       "      <th>10</th>\n",
       "      <td>[people, adult, two, group together, man, grou...</td>\n",
       "    </tr>\n",
       "    <tr>\n",
       "      <th>11</th>\n",
       "      <td>[people, adult, two, woman, man, portrait, one...</td>\n",
       "    </tr>\n",
       "    <tr>\n",
       "      <th>12</th>\n",
       "      <td>[people, adult, one, recreation, beach, water,...</td>\n",
       "    </tr>\n",
       "    <tr>\n",
       "      <th>13</th>\n",
       "      <td>[landscape, sunset, people, fog, light, portra...</td>\n",
       "    </tr>\n",
       "    <tr>\n",
       "      <th>14</th>\n",
       "      <td>[people, music, backlit, concert, one, man, po...</td>\n",
       "    </tr>\n",
       "    <tr>\n",
       "      <th>15</th>\n",
       "      <td>[people, adult, two, man, beach, group, group ...</td>\n",
       "    </tr>\n",
       "    <tr>\n",
       "      <th>16</th>\n",
       "      <td>[people, one, man, monochrome, bed, adult, sle...</td>\n",
       "    </tr>\n",
       "    <tr>\n",
       "      <th>17</th>\n",
       "      <td>[people, one, adult, man, woman, beach, rock, ...</td>\n",
       "    </tr>\n",
       "    <tr>\n",
       "      <th>18</th>\n",
       "      <td>[landscape, water, no person, beach, sea, ocea...</td>\n",
       "    </tr>\n",
       "    <tr>\n",
       "      <th>19</th>\n",
       "      <td>[landscape, no person, water, mountain, seasho...</td>\n",
       "    </tr>\n",
       "    <tr>\n",
       "      <th>20</th>\n",
       "      <td>[people, monochrome, beach, water, snow, lands...</td>\n",
       "    </tr>\n",
       "    <tr>\n",
       "      <th>21</th>\n",
       "      <td>[people, adult, woman, group, man, wear, group...</td>\n",
       "    </tr>\n",
       "    <tr>\n",
       "      <th>22</th>\n",
       "      <td>[people, adult, man, two, monochrome, woman, g...</td>\n",
       "    </tr>\n",
       "    <tr>\n",
       "      <th>23</th>\n",
       "      <td>[people, no person, one, travel, water, rock, ...</td>\n",
       "    </tr>\n",
       "    <tr>\n",
       "      <th>24</th>\n",
       "      <td>[monochrome, people, landscape, fog, street, a...</td>\n",
       "    </tr>\n",
       "    <tr>\n",
       "      <th>25</th>\n",
       "      <td>[people, adult, one, vehicle, two, war, milita...</td>\n",
       "    </tr>\n",
       "    <tr>\n",
       "      <th>26</th>\n",
       "      <td>[people, vehicle, adult, one, man, woman, grou...</td>\n",
       "    </tr>\n",
       "    <tr>\n",
       "      <th>27</th>\n",
       "      <td>[people, adult, one, two, child, portrait, wom...</td>\n",
       "    </tr>\n",
       "    <tr>\n",
       "      <th>28</th>\n",
       "      <td>[people, one, adult, portrait, wood, girl, wom...</td>\n",
       "    </tr>\n",
       "    <tr>\n",
       "      <th>29</th>\n",
       "      <td>[people, beach, water, sea, monochrome, adult,...</td>\n",
       "    </tr>\n",
       "    <tr>\n",
       "      <th>30</th>\n",
       "      <td>[beach, people, water, sea, travel, ocean, mon...</td>\n",
       "    </tr>\n",
       "  </tbody>\n",
       "</table>\n",
       "</div>"
      ],
      "text/plain": [
       "                                                words\n",
       "0   [no person, outdoors, landscape, seashore, tra...\n",
       "1   [people, recreation, water, one, beach, man, a...\n",
       "2   [people, one, vehicle, adult, two, transportat...\n",
       "3   [beach, people, monochrome, sea, one, ocean, w...\n",
       "4   [no person, landscape, water, nature, monochro...\n",
       "5   [surf, ocean, water, spray, wave, splash, acti...\n",
       "6   [people, one, adult, no person, rock, outdoors...\n",
       "7   [people, child, adult, monochrome, woman, grou...\n",
       "8   [people, adult, group, group together, woman, ...\n",
       "9   [people, beach, seashore, landscape, sea, ocea...\n",
       "10  [people, adult, two, group together, man, grou...\n",
       "11  [people, adult, two, woman, man, portrait, one...\n",
       "12  [people, adult, one, recreation, beach, water,...\n",
       "13  [landscape, sunset, people, fog, light, portra...\n",
       "14  [people, music, backlit, concert, one, man, po...\n",
       "15  [people, adult, two, man, beach, group, group ...\n",
       "16  [people, one, man, monochrome, bed, adult, sle...\n",
       "17  [people, one, adult, man, woman, beach, rock, ...\n",
       "18  [landscape, water, no person, beach, sea, ocea...\n",
       "19  [landscape, no person, water, mountain, seasho...\n",
       "20  [people, monochrome, beach, water, snow, lands...\n",
       "21  [people, adult, woman, group, man, wear, group...\n",
       "22  [people, adult, man, two, monochrome, woman, g...\n",
       "23  [people, no person, one, travel, water, rock, ...\n",
       "24  [monochrome, people, landscape, fog, street, a...\n",
       "25  [people, adult, one, vehicle, two, war, milita...\n",
       "26  [people, vehicle, adult, one, man, woman, grou...\n",
       "27  [people, adult, one, two, child, portrait, wom...\n",
       "28  [people, one, adult, portrait, wood, girl, wom...\n",
       "29  [people, beach, water, sea, monochrome, adult,...\n",
       "30  [beach, people, water, sea, travel, ocean, mon..."
      ]
     },
     "execution_count": 81,
     "metadata": {},
     "output_type": "execute_result"
    }
   ],
   "source": [
    "word_df('luna_tag_results')"
   ]
  },
  {
   "cell_type": "code",
   "execution_count": 82,
   "metadata": {},
   "outputs": [
    {
     "name": "stdout",
     "output_type": "stream",
     "text": [
      "Keywords 0 of 31\n"
     ]
    }
   ],
   "source": [
    "luna_predictions = pd.Series(predict_pics('luna_tag_results', model, keywords, forest))"
   ]
  },
  {
   "cell_type": "code",
   "execution_count": 83,
   "metadata": {},
   "outputs": [
    {
     "data": {
      "text/plain": [
       "{1: 0.064516129032258063,\n",
       " 2: 0.064516129032258063,\n",
       " 3: 0.29032258064516131,\n",
       " 4: 0.58064516129032262}"
      ]
     },
     "execution_count": 83,
     "metadata": {},
     "output_type": "execute_result"
    }
   ],
   "source": [
    "(luna_predictions.value_counts()/len(luna_predictions)).to_dict()"
   ]
  },
  {
   "cell_type": "code",
   "execution_count": null,
   "metadata": {
    "collapsed": true
   },
   "outputs": [],
   "source": []
  }
 ],
 "metadata": {
  "kernelspec": {
   "display_name": "Python 3",
   "language": "python",
   "name": "python3"
  },
  "language_info": {
   "codemirror_mode": {
    "name": "ipython",
    "version": 3
   },
   "file_extension": ".py",
   "mimetype": "text/x-python",
   "name": "python",
   "nbconvert_exporter": "python",
   "pygments_lexer": "ipython3",
   "version": "3.6.1"
  }
 },
 "nbformat": 4,
 "nbformat_minor": 2
}
